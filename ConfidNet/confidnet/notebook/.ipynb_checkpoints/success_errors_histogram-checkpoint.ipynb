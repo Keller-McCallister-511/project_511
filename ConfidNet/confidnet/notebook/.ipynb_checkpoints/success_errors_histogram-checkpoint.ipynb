{
 "cells": [
  {
   "cell_type": "markdown",
   "metadata": {},
   "source": [
    "# Success/Errors Histogram"
   ]
  },
  {
   "cell_type": "code",
   "execution_count": 9,
   "metadata": {},
   "outputs": [],
   "source": [
    "import torch\n",
    "import torch.nn.functional as F\n",
    "import numpy as np\n",
    "from tqdm.notebook import tqdm\n",
    "from sklearn.metrics import average_precision_score\n",
    "from sklearn.metrics import confusion_matrix\n",
    "from sklearn.metrics import roc_auc_score\n",
    "import matplotlib.pyplot as plt\n",
    "%matplotlib inline\n",
    "\n",
    "import sys\n",
    "sys.path.insert(0, '../')\n",
    "from loaders import get_loader\n",
    "from learners import get_learner\n",
    "from utils import misc\n",
    "\n",
    "# Device configuration\n",
    "device = torch.device('cuda' if torch.cuda.is_available() else 'cpu')"
   ]
  },
  {
   "cell_type": "code",
   "execution_count": 10,
   "metadata": {},
   "outputs": [],
   "source": [
    "# DEFINE HERE YOUR CONFIG PATH AND THE EPOCH YOU WANT TO EVALUATE\n",
    "config_path = '../output_conf/config_1.yaml' \n",
    "ckpt_path = '../output_conf/model_epoch_002.ckpt'\n",
    "config_args = misc.load_yaml(config_path)"
   ]
  },
  {
   "cell_type": "code",
   "execution_count": 11,
   "metadata": {},
   "outputs": [
    {
     "name": "stderr",
     "output_type": "stream",
     "text": [
      "2022-10-26 19:18:15,365 williamkeller confidnet.loaders.loader[18255] INFO --- Augmentations ---\n",
      "2022-10-26 19:18:15,368 williamkeller confidnet.augmentations[18255] INFO Using No Augmentations\n",
      "2022-10-26 19:18:15,506 williamkeller confidnet.loaders.loader[18255] WARNING Loading existing train-val split indices from ORIGINAL training\n"
     ]
    }
   ],
   "source": [
    "# Get data loader\n",
    "dloader = get_loader(config_args)\n",
    "dloader.make_loaders()"
   ]
  },
  {
   "cell_type": "code",
   "execution_count": 12,
   "metadata": {},
   "outputs": [
    {
     "name": "stderr",
     "output_type": "stream",
     "text": [
      "2022-10-26 19:18:17,239 williamkeller confidnet.learners.learner[18255] INFO Using optimizer sgd\n",
      "2022-10-26 19:18:17,242 williamkeller confidnet.learners.learner[18255] INFO Using loss selfconfid_mse\n",
      "2022-10-26 19:18:17,245 williamkeller confidnet.learners.selfconfid_learner[18255] INFO Freezing every layer except uncertainty\n",
      "2022-10-26 19:18:17,253 williamkeller confidnet.learners.selfconfid_learner[18255] INFO Keeping original BN parameters\n"
     ]
    },
    {
     "name": "stdout",
     "output_type": "stream",
     "text": [
      "uncertainty1.weight kept to training\n",
      "uncertainty1.bias kept to training\n",
      "uncertainty2.weight kept to training\n",
      "uncertainty2.bias kept to training\n",
      "uncertainty3.weight kept to training\n",
      "uncertainty3.bias kept to training\n",
      "uncertainty4.weight kept to training\n",
      "uncertainty4.bias kept to training\n",
      "uncertainty5.weight kept to training\n",
      "uncertainty5.bias kept to training\n"
     ]
    },
    {
     "data": {
      "text/plain": [
       "<All keys matched successfully>"
      ]
     },
     "execution_count": 12,
     "metadata": {},
     "output_type": "execute_result"
    }
   ],
   "source": [
    "# Initialize and load model\n",
    "learner = get_learner(config_args, dloader.train_loader, dloader.val_loader, dloader.test_loader, -1, device)\n",
    "checkpoint = torch.load(ckpt_path)\n",
    "learner.model.load_state_dict(checkpoint[\"model_state_dict\"])"
   ]
  },
  {
   "cell_type": "code",
   "execution_count": 13,
   "metadata": {},
   "outputs": [],
   "source": [
    "def predict_test_set(learner, mode='normal', samples=50, verbose=True):\n",
    "    accurate, errors, confidence = [], [], []\n",
    "    loop = tqdm(learner.test_loader, disable=not verbose)\n",
    "    for batch_id, (data, target) in enumerate(loop):\n",
    "        data, target = data.to(device), target.to(device)\n",
    "\n",
    "        with torch.no_grad():\n",
    "            if mode == \"normal\":\n",
    "                output = learner.model(data)\n",
    "                conf, pred = F.softmax(output, dim=1).max(dim=1, keepdim=True)\n",
    "\n",
    "            elif mode == \"gt\":\n",
    "                output = learner.model(data)\n",
    "                probs = F.softmax(output, dim=1)\n",
    "                pred = probs.max(dim=1, keepdim=True)[1]\n",
    "                labels_hot = misc.one_hot_embedding(target, learner.num_classes).to(device)\n",
    "                # Segmentation special case\n",
    "                if learner.task == \"segmentation\":\n",
    "                    labels_hot = labels_hot.permute(0, 3, 1, 2)\n",
    "                conf, _ = (labels_hot * probs).max(dim=1, keepdim=True)\n",
    "\n",
    "            elif mode == \"mc_dropout\":\n",
    "                if learner.task == \"classification\":\n",
    "                    outputs = torch.zeros(samples, data.shape[0], learner.num_classes).to(device)\n",
    "                elif learner.task == \"segmentation\":\n",
    "                    outputs = torch.zeros(samples, data.shape[0], learner.num_classes, \n",
    "                                          data.shape[2], data.shape[3]).to(device)\n",
    "                for i in range(samples):\n",
    "                    outputs[i] = learner.model(data)\n",
    "                output = outputs.mean(0)\n",
    "                probs = F.softmax(output, dim=1)\n",
    "                conf = (probs * torch.log(probs + 1e-9)).sum(dim=1)  # entropy\n",
    "                pred = probs.max(dim=1, keepdim=True)[1]\n",
    "\n",
    "            elif mode=='confidnet':\n",
    "                output, conf = learner.model(data)\n",
    "                pred = output.argmax(dim=1, keepdim=True)\n",
    "                conf = torch.sigmoid(conf)\n",
    "\n",
    "            accurate.extend(pred.eq(target.view_as(pred)))\n",
    "            errors.extend(pred!=target.view_as(pred))\n",
    "            confidence.extend(conf) \n",
    "\n",
    "    confidence = torch.stack(confidence).detach().to('cpu').numpy() .flatten()  \n",
    "    accurate = torch.cat(accurate).detach().to('cpu').numpy().flatten()\n",
    "    errors = torch.cat(errors).detach().to('cpu').numpy().flatten()\n",
    "    cm = confusion_matrix(accurate, confidence)\n",
    "    ap_success = average_precision_score(accurate, confidence)\n",
    "    ap_errors = average_precision_score(errors, -confidence)\n",
    "    \n",
    "    print(cm)\n",
    "\n",
    "    return accurate, confidence, ap_success, ap_errors"
   ]
  },
  {
   "cell_type": "code",
   "execution_count": 6,
   "metadata": {},
   "outputs": [
    {
     "data": {
      "application/vnd.jupyter.widget-view+json": {
       "model_id": "17714153194f4a29a5371b6d7da0b734",
       "version_major": 2,
       "version_minor": 0
      },
      "text/plain": [
       "  0%|          | 0/79 [00:00<?, ?it/s]"
      ]
     },
     "metadata": {},
     "output_type": "display_data"
    }
   ],
   "source": [
    "accurate_normal, confidence_normal, _, _ = predict_test_set(learner, mode='confidnet')"
   ]
  },
  {
   "cell_type": "code",
   "execution_count": 7,
   "metadata": {},
   "outputs": [
    {
     "data": {
      "application/vnd.jupyter.widget-view+json": {
       "model_id": "7771b39eb9ce404e8db03f1056885535",
       "version_major": 2,
       "version_minor": 0
      },
      "text/plain": [
       "  0%|          | 0/79 [00:00<?, ?it/s]"
      ]
     },
     "metadata": {},
     "output_type": "display_data"
    }
   ],
   "source": [
    "accurate_gt, confidence_gt, _, _ = predict_test_set(learner, mode='confidnet')"
   ]
  },
  {
   "cell_type": "code",
   "execution_count": 8,
   "metadata": {},
   "outputs": [
    {
     "data": {
      "image/png": "[encoded data removed]",
      "text/plain": [
       "<Figure size 1500x500 with 2 Axes>"
      ]
     },
     "metadata": {},
     "output_type": "display_data"
    }
   ],
   "source": [
    "plt.figure(figsize=(15,5))\n",
    "plt.subplot(121)\n",
    "plt.title('Maximum Class Probability', y=-0.2, fontsize=14)\n",
    "plt.hist(confidence_normal[np.where(accurate_normal==1)], \n",
    "         bins=np.linspace(0, 1,num=21), density=True, color='green',label='Successes')\n",
    "plt.hist(confidence_normal[np.where(accurate_normal==0)], \n",
    "         bins=np.linspace(0, 1,num=21), density=True, alpha=0.5, color='red',label='Errors')\n",
    "plt.xlabel('Confidence')\n",
    "plt.ylabel('Relative density')\n",
    "plt.xlim(left=0, right=1)\n",
    "plt.legend()\n",
    "plt.subplot(122)\n",
    "plt.title('True Class Probability', y=-0.2, fontsize=14)\n",
    "plt.hist(confidence_gt[np.where(accurate_gt==1)], \n",
    "         bins=np.linspace(0, 1,num=21), density=True, color='green',label='Successes')\n",
    "plt.hist(confidence_gt[np.where(accurate_gt==0)], \n",
    "         bins=np.linspace(0, 1,num=21), density=True, alpha=0.5, color='red',label='Errors')\n",
    "plt.xlabel('Confidence')\n",
    "plt.ylabel('Relative density')\n",
    "plt.xlim(left=0, right=1)\n",
    "plt.legend()\n",
    "plt.show()"
   ]
  },
  {
   "cell_type": "code",
   "execution_count": null,
   "metadata": {},
   "outputs": [],
   "source": []
  },
  {
   "cell_type": "code",
   "execution_count": null,
   "metadata": {},
   "outputs": [],
   "source": []
  }
 ],
 "metadata": {
  "kernelspec": {
   "display_name": "Python 3 (ipykernel)",
   "language": "python",
   "name": "python3"
  },
  "language_info": {
   "codemirror_mode": {
    "name": "ipython",
    "version": 3
   },
   "file_extension": ".py",
   "mimetype": "text/x-python",
   "name": "python",
   "nbconvert_exporter": "python",
   "pygments_lexer": "ipython3",
   "version": "3.8.10"
  },
  "vscode": {
   "interpreter": {
    "hash": "916dbcbb3f70747c44a77c7bcd40155683ae19c65e1c03b4aa3499c5328201f1"
   }
  }
 },
 "nbformat": 4,
 "nbformat_minor": 2
}
